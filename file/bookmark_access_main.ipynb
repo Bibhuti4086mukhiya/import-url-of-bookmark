{
 "cells": [
  {
   "cell_type": "code",
   "execution_count": 9,
   "id": "a43c6117",
   "metadata": {
    "scrolled": true
   },
   "outputs": [],
   "source": [
    "import os\n",
    "\n",
    "def get_chrome_bookmarks_path():\n",
    "    if os.name == 'nt':  # Windows\n",
    "        app_data_path = os.getenv('LOCALAPPDATA')\n",
    "        return os.path.join(app_data_path, 'Google', 'Chrome', 'User Data', 'Default', 'Bookmarks')\n",
    "    elif os.name == 'posix':  # macOS or Linux\n",
    "        home_path = os.path.expanduser('~')\n",
    "        return os.path.join(home_path, '.config', 'google-chrome', 'Default', 'Bookmarks')\n",
    "    else:\n",
    "        raise OSError(\"Unsupported operating system.\")\n",
    "\n",
    "# Usage example\n",
    "bookmarks_path = get_chrome_bookmarks_path()\n",
    "# print(\"Chrome bookmarks path:\",bookmarks_path)\n",
    "# print(os.startfile(bookmarks_path))\n"
   ]
  },
  {
   "cell_type": "code",
   "execution_count": 11,
   "id": "25e20e68",
   "metadata": {},
   "outputs": [
    {
     "name": "stdout",
     "output_type": "stream",
     "text": [
      "File contents: successful read path\n"
     ]
    }
   ],
   "source": [
    "def read_unknown_file(file_path):\n",
    "    with open(file_path, 'rb') as file:\n",
    "        contents = file.read()\n",
    "    return contents\n",
    "# Usage example\n",
    "file_path = bookmarks_path\n",
    "try:\n",
    "    file_contents = read_unknown_file(file_path)\n",
    "    print(\"File contents: successful read path\", )\n",
    "except Exception as e:\n",
    "    print(\"Error reading the file:\", str(e))"
   ]
  },
  {
   "cell_type": "code",
   "execution_count": 12,
   "id": "b8a7fced",
   "metadata": {},
   "outputs": [],
   "source": [
    "import json\n",
    "file_dict = json.loads(file_contents)"
   ]
  },
  {
   "cell_type": "code",
   "execution_count": 14,
   "id": "b2d697ec",
   "metadata": {
    "scrolled": true
   },
   "outputs": [],
   "source": [
    "data={\n",
    "     \"BookMarks\":\n",
    "        [{\n",
    "            \"title\":\"\",\n",
    "            \"url\":\"\"\n",
    "        }],\n",
    "    }\n",
    "for i in file_dict['roots']['bookmark_bar']['children']:\n",
    "    try:\n",
    "        if [i][0]['name']=='' or [i][0]['url']=='':\n",
    "            continue\n",
    "        data['BookMarks'] +=[{ \"title\":f\"{[i][0]['name']}\",\n",
    "                              \"url: \":f\"{[i][0]['url']}\"\n",
    "                            }]\n",
    "        updated_json = json.dumps(data, indent=2) \n",
    "    except:\n",
    "        pass\n",
    "# print(updated_json)\n"
   ]
  },
  {
   "cell_type": "code",
   "execution_count": 15,
   "id": "b634ecd0",
   "metadata": {},
   "outputs": [],
   "source": [
    "save_file = open(\"savedata.json\", \"w\")  \n",
    "json.dump(data, save_file, indent = 6)  \n",
    "save_file.close()  "
   ]
  },
  {
   "cell_type": "code",
   "execution_count": null,
   "id": "81fe0b78",
   "metadata": {},
   "outputs": [],
   "source": []
  }
 ],
 "metadata": {
  "kernelspec": {
   "display_name": "Python 3 (ipykernel)",
   "language": "python",
   "name": "python3"
  },
  "language_info": {
   "codemirror_mode": {
    "name": "ipython",
    "version": 3
   },
   "file_extension": ".py",
   "mimetype": "text/x-python",
   "name": "python",
   "nbconvert_exporter": "python",
   "pygments_lexer": "ipython3",
   "version": "3.9.12"
  }
 },
 "nbformat": 4,
 "nbformat_minor": 5
}
